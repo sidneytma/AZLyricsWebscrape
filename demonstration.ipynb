{
 "cells": [
  {
   "cell_type": "code",
   "execution_count": 40,
   "id": "bc65a90e",
   "metadata": {},
   "outputs": [],
   "source": [
    "from get_lyrics import *\n",
    "\n",
    "import pandas as pd\n",
    "import json\n",
    "from json import JSONDecodeError\n",
    "import time\n",
    "from tqdm import tqdm"
   ]
  },
  {
   "cell_type": "code",
   "execution_count": 31,
   "id": "b2631e1e",
   "metadata": {},
   "outputs": [],
   "source": [
    "# Set up query code\n",
    "# Go on search.azlyrics.com and click the \"Search\" button\n",
    "# In the search bar, copy the query code (the long string after \"&x=\")\n",
    "# Example: 7868b5551a2918e27273a73575c4a31fb4393a36af035393e31367973d23ee98\n",
    "\n",
    "query_code = \"7868b5551a2918e27273a73575c4a31fb4393a36af035393e31367973d23ee98\""
   ]
  },
  {
   "cell_type": "code",
   "execution_count": 32,
   "id": "33167661",
   "metadata": {
    "scrolled": true
   },
   "outputs": [
    {
     "name": "stdout",
     "output_type": "stream",
     "text": [
      "\r\n",
      "Just a small-town girl\n",
      "Livin' in a lonely world\n",
      "She took the midnight train goin' anywhere\n",
      "\n",
      "Just a city boy\n",
      "Born and raised in South Detroit\n",
      "He took the midnight train goin' anywhere\n",
      "\n",
      "A singer in a smokey room\n",
      "The smell of wine and cheap perfume\n",
      "For a smile they can share the night\n",
      "It goes on and on, and on, and on\n",
      "\n",
      "Strangers waiting\n",
      "Up and down the boulevard\n",
      "Their shadows searching in the night\n",
      "\n",
      "Streetlights people\n",
      "Livin' just to find emotion\n",
      "Hidin' somewhere in the night\n",
      "\n",
      "Workin' hard to get my fill\n",
      "Everybody wants a thrill\n",
      "Payin' anything to roll the dice just one more time\n",
      "\n",
      "Some will win, some will lose\n",
      "Some were born to sing the blues\n",
      "Oh, the movie never ends\n",
      "It goes on and on, and on, and on\n",
      "\n",
      "Strangers waiting\n",
      "Up and down the boulevard\n",
      "Their shadows searching in the night\n",
      "\n",
      "Streetlights people\n",
      "Livin' just to find emotion\n",
      "Hidin' somewhere in the night\n",
      "\n",
      "Don't stop believin'\n",
      "Hold on to that feelin'\n",
      "Streetlight people\n",
      "\n",
      "Don't stop believin'\n",
      "Hold on\n",
      "Streetlight people\n",
      "\n",
      "Don't stop believin'\n",
      "Hold on to that feelin'\n",
      "Streetlight people\n",
      "\n"
     ]
    }
   ],
   "source": [
    "# Example: get lyrics to Journey - Don't Stop Believin'\n",
    "lyrics = get_lyrics(\"Don't Stop Believin'\", query_code)\n",
    "print(lyrics)"
   ]
  },
  {
   "cell_type": "code",
   "execution_count": null,
   "id": "5605bcf6",
   "metadata": {},
   "outputs": [],
   "source": []
  }
 ],
 "metadata": {
  "kernelspec": {
   "display_name": "Python 3 (ipykernel)",
   "language": "python",
   "name": "python3"
  },
  "language_info": {
   "codemirror_mode": {
    "name": "ipython",
    "version": 3
   },
   "file_extension": ".py",
   "mimetype": "text/x-python",
   "name": "python",
   "nbconvert_exporter": "python",
   "pygments_lexer": "ipython3",
   "version": "3.11.4"
  }
 },
 "nbformat": 4,
 "nbformat_minor": 5
}
